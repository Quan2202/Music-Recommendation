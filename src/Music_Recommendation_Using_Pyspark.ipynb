{
  "nbformat": 4,
  "nbformat_minor": 0,
  "metadata": {
    "colab": {
      "name": "Music Recommendation Using Pyspark",
      "provenance": [],
      "collapsed_sections": []
    },
    "kernelspec": {
      "display_name": "Python 3",
      "name": "python3"
    }
  },
  "cells": [
    {
      "cell_type": "markdown",
      "metadata": {
        "id": "uixRc0XtrHuj"
      },
      "source": [
        "# **WELCOME TO THIS NOTEBOOK**"
      ]
    },
    {
      "cell_type": "markdown",
      "metadata": {
        "id": "hMZ64UxxrMvL"
      },
      "source": [
        "Let's install pyspark"
      ]
    },
    {
      "cell_type": "code",
      "metadata": {
        "colab": {
          "base_uri": "https://localhost:8080/"
        },
        "id": "PRNvUEPT0lIB",
        "outputId": "2e162629-823e-4beb-fd43-087dc056d7bf"
      },
      "source": [
        "from google.colab import drive\r\n",
        "drive.mount('/content/drive')"
      ],
      "execution_count": null,
      "outputs": [
        {
          "output_type": "stream",
          "text": [
            "Mounted at /content/drive\n"
          ],
          "name": "stdout"
        }
      ]
    },
    {
      "cell_type": "code",
      "metadata": {
        "id": "Dal3Np2Imn8u",
        "colab": {
          "base_uri": "https://localhost:8080/"
        },
        "outputId": "67450dc4-41d9-4982-c7b8-263fd323a93e"
      },
      "source": [
        "!pip install pyspark"
      ],
      "execution_count": null,
      "outputs": [
        {
          "output_type": "stream",
          "text": [
            "Collecting pyspark\n",
            "\u001b[?25l  Downloading https://files.pythonhosted.org/packages/f0/26/198fc8c0b98580f617cb03cb298c6056587b8f0447e20fa40c5b634ced77/pyspark-3.0.1.tar.gz (204.2MB)\n",
            "\u001b[K     |████████████████████████████████| 204.2MB 70kB/s \n",
            "\u001b[?25hCollecting py4j==0.10.9\n",
            "\u001b[?25l  Downloading https://files.pythonhosted.org/packages/9e/b6/6a4fb90cd235dc8e265a6a2067f2a2c99f0d91787f06aca4bcf7c23f3f80/py4j-0.10.9-py2.py3-none-any.whl (198kB)\n",
            "\u001b[K     |████████████████████████████████| 204kB 34.9MB/s \n",
            "\u001b[?25hBuilding wheels for collected packages: pyspark\n",
            "  Building wheel for pyspark (setup.py) ... \u001b[?25l\u001b[?25hdone\n",
            "  Created wheel for pyspark: filename=pyspark-3.0.1-py2.py3-none-any.whl size=204612242 sha256=34ef706d2276cca5aeee017df2aac469c9450c13f860280abd5f60b7fb2102b2\n",
            "  Stored in directory: /root/.cache/pip/wheels/5e/bd/07/031766ca628adec8435bb40f0bd83bb676ce65ff4007f8e73f\n",
            "Successfully built pyspark\n",
            "Installing collected packages: py4j, pyspark\n",
            "Successfully installed py4j-0.10.9 pyspark-3.0.1\n"
          ],
          "name": "stdout"
        }
      ]
    },
    {
      "cell_type": "markdown",
      "metadata": {
        "id": "eK9D-CNgru_s"
      },
      "source": [
        "Importing the modules"
      ]
    },
    {
      "cell_type": "code",
      "metadata": {
        "id": "Z_cmzia9nA1W"
      },
      "source": [
        "from pyspark.sql import SparkSession\n",
        "from pyspark.sql.functions import count, desc , col, max\n",
        "from pyspark.ml.feature import  StringIndexer\n",
        "from pyspark.ml import Pipeline\n",
        "from pyspark.ml.recommendation import ALS\n",
        "from pyspark.ml.tuning import TrainValidationSplit, ParamGridBuilder"
      ],
      "execution_count": null,
      "outputs": []
    },
    {
      "cell_type": "markdown",
      "metadata": {
        "id": "pjM5P6b0rVpH"
      },
      "source": [
        "Creating the spark session\n"
      ]
    },
    {
      "cell_type": "code",
      "metadata": {
        "id": "gvSzI0zMn4Hk"
      },
      "source": [
        "spark = SparkSession.builder.appName('lastfm').getOrCreate( )"
      ],
      "execution_count": null,
      "outputs": []
    },
    {
      "cell_type": "markdown",
      "metadata": {
        "id": "KnyYdMVmnkp5"
      },
      "source": [
        "# Loading the dataset"
      ]
    },
    {
      "cell_type": "code",
      "metadata": {
        "id": "PywJeVgDngVd",
        "colab": {
          "base_uri": "https://localhost:8080/"
        },
        "outputId": "181d669d-2cb3-4035-bf7b-0a402e0758db"
      },
      "source": [
        "file_path = '/content/drive/MyDrive/Colab Notebooks/Projects/dataset/listenings.csv'\r\n",
        "df_listenings = spark.read.csv(file_path, header=True, inferSchema=True)\r\n",
        "df_listenings.show()"
      ],
      "execution_count": null,
      "outputs": [
        {
          "output_type": "stream",
          "text": [
            "+-----------+-------------+--------------------+---------------+--------------------+\n",
            "|    user_id|         date|               track|         artist|               album|\n",
            "+-----------+-------------+--------------------+---------------+--------------------+\n",
            "|000Silenced|1299680100000|           Price Tag|       Jessie J|         Who You Are|\n",
            "|000Silenced|1299679920000|Price Tag (Acoust...|       Jessie J|           Price Tag|\n",
            "|000Silenced|1299679440000|Be Mine! (Ballad ...|          Robyn|            Be Mine!|\n",
            "|000Silenced|1299679200000|            Acapella|          Kelis|            Acapella|\n",
            "|000Silenced|1299675660000|   I'm Not Invisible|      The Tease|   I'm Not Invisible|\n",
            "|000Silenced|1297511400000|Bounce (Feat NORE...|       MSTRKRFT|         Fist of God|\n",
            "|000Silenced|1294498440000|Don't Stop The Mu...|        Rihanna|Addicted 2 Bassli...|\n",
            "|000Silenced|1292438340000|               ObZen|      Meshuggah|               ObZen|\n",
            "|000Silenced|1292437740000|   Yama's Messengers|         Gojira|The Way of All Flesh|\n",
            "|000Silenced|1292436360000|On the Brink of E...|   Napalm Death|Time Waits For No...|\n",
            "|000Silenced|1292436360000|On the Brink of E...|   Napalm Death|Time Waits For No...|\n",
            "|000Silenced|1292435940000|        In Deference|   Napalm Death|      Smear Campaign|\n",
            "|000Silenced|1292434920000|      Post(?)organic|    Decapitated|Organic Hallucinosis|\n",
            "|000Silenced|1292434560000|        Mind Feeders|   Dom & Roland| No Strings Attached|\n",
            "|000Silenced|1292434320000|Necrosadistic War...|Cannibal Corpse|                Kill|\n",
            "|000Silenced|1292365560000|     Dance All Night|   Dom & Roland|          Chronology|\n",
            "|000Silenced|1292365260000|          Late Night|   Dom & Roland|          Chronology|\n",
            "|000Silenced|1292365020000|          Freak Seen|   Dom & Roland|          Chronology|\n",
            "|000Silenced|1292364720000|Paradrenasite (Hi...|   Dom & Roland|          Chronology|\n",
            "|000Silenced|1292364300000|               Rhino|   Dom & Roland|          Chronology|\n",
            "+-----------+-------------+--------------------+---------------+--------------------+\n",
            "only showing top 20 rows\n",
            "\n"
          ],
          "name": "stdout"
        }
      ]
    },
    {
      "cell_type": "markdown",
      "metadata": {
        "id": "YUHBP0yjoJvc"
      },
      "source": [
        "\n",
        "# Cleaning tables "
      ]
    },
    {
      "cell_type": "code",
      "metadata": {
        "id": "N8luDo3HndTb",
        "colab": {
          "base_uri": "https://localhost:8080/"
        },
        "outputId": "2b4e6cbc-39aa-4a1c-dfbb-fd3f5697065c"
      },
      "source": [
        "df_listenings = df_listenings.drop('date')\r\n",
        "df_listenings"
      ],
      "execution_count": null,
      "outputs": [
        {
          "output_type": "execute_result",
          "data": {
            "text/plain": [
              "DataFrame[user_id: string, track: string, artist: string, album: string]"
            ]
          },
          "metadata": {
            "tags": []
          },
          "execution_count": 9
        }
      ]
    },
    {
      "cell_type": "code",
      "metadata": {
        "id": "5rDadwmpowII",
        "colab": {
          "base_uri": "https://localhost:8080/"
        },
        "outputId": "b818f4dc-582a-4573-f30c-689cc65a9e9e"
      },
      "source": [
        "df_listenings.show()"
      ],
      "execution_count": null,
      "outputs": [
        {
          "output_type": "stream",
          "text": [
            "+-----------+--------------------+---------------+--------------------+\n",
            "|    user_id|               track|         artist|               album|\n",
            "+-----------+--------------------+---------------+--------------------+\n",
            "|000Silenced|           Price Tag|       Jessie J|         Who You Are|\n",
            "|000Silenced|Price Tag (Acoust...|       Jessie J|           Price Tag|\n",
            "|000Silenced|Be Mine! (Ballad ...|          Robyn|            Be Mine!|\n",
            "|000Silenced|            Acapella|          Kelis|            Acapella|\n",
            "|000Silenced|   I'm Not Invisible|      The Tease|   I'm Not Invisible|\n",
            "|000Silenced|Bounce (Feat NORE...|       MSTRKRFT|         Fist of God|\n",
            "|000Silenced|Don't Stop The Mu...|        Rihanna|Addicted 2 Bassli...|\n",
            "|000Silenced|               ObZen|      Meshuggah|               ObZen|\n",
            "|000Silenced|   Yama's Messengers|         Gojira|The Way of All Flesh|\n",
            "|000Silenced|On the Brink of E...|   Napalm Death|Time Waits For No...|\n",
            "|000Silenced|On the Brink of E...|   Napalm Death|Time Waits For No...|\n",
            "|000Silenced|        In Deference|   Napalm Death|      Smear Campaign|\n",
            "|000Silenced|      Post(?)organic|    Decapitated|Organic Hallucinosis|\n",
            "|000Silenced|        Mind Feeders|   Dom & Roland| No Strings Attached|\n",
            "|000Silenced|Necrosadistic War...|Cannibal Corpse|                Kill|\n",
            "|000Silenced|     Dance All Night|   Dom & Roland|          Chronology|\n",
            "|000Silenced|          Late Night|   Dom & Roland|          Chronology|\n",
            "|000Silenced|          Freak Seen|   Dom & Roland|          Chronology|\n",
            "|000Silenced|Paradrenasite (Hi...|   Dom & Roland|          Chronology|\n",
            "|000Silenced|               Rhino|   Dom & Roland|          Chronology|\n",
            "+-----------+--------------------+---------------+--------------------+\n",
            "only showing top 20 rows\n",
            "\n"
          ],
          "name": "stdout"
        }
      ]
    },
    {
      "cell_type": "code",
      "metadata": {
        "id": "UZr0ZxOVIYr9",
        "colab": {
          "base_uri": "https://localhost:8080/"
        },
        "outputId": "7a5e8f97-401b-46b9-9bf0-ae876e069cbf"
      },
      "source": [
        "df_listenings = df_listenings.na.drop()\r\n",
        "df_listenings.show()"
      ],
      "execution_count": null,
      "outputs": [
        {
          "output_type": "stream",
          "text": [
            "+-----------+--------------------+---------------+--------------------+\n",
            "|    user_id|               track|         artist|               album|\n",
            "+-----------+--------------------+---------------+--------------------+\n",
            "|000Silenced|           Price Tag|       Jessie J|         Who You Are|\n",
            "|000Silenced|Price Tag (Acoust...|       Jessie J|           Price Tag|\n",
            "|000Silenced|Be Mine! (Ballad ...|          Robyn|            Be Mine!|\n",
            "|000Silenced|            Acapella|          Kelis|            Acapella|\n",
            "|000Silenced|   I'm Not Invisible|      The Tease|   I'm Not Invisible|\n",
            "|000Silenced|Bounce (Feat NORE...|       MSTRKRFT|         Fist of God|\n",
            "|000Silenced|Don't Stop The Mu...|        Rihanna|Addicted 2 Bassli...|\n",
            "|000Silenced|               ObZen|      Meshuggah|               ObZen|\n",
            "|000Silenced|   Yama's Messengers|         Gojira|The Way of All Flesh|\n",
            "|000Silenced|On the Brink of E...|   Napalm Death|Time Waits For No...|\n",
            "|000Silenced|On the Brink of E...|   Napalm Death|Time Waits For No...|\n",
            "|000Silenced|        In Deference|   Napalm Death|      Smear Campaign|\n",
            "|000Silenced|      Post(?)organic|    Decapitated|Organic Hallucinosis|\n",
            "|000Silenced|        Mind Feeders|   Dom & Roland| No Strings Attached|\n",
            "|000Silenced|Necrosadistic War...|Cannibal Corpse|                Kill|\n",
            "|000Silenced|     Dance All Night|   Dom & Roland|          Chronology|\n",
            "|000Silenced|          Late Night|   Dom & Roland|          Chronology|\n",
            "|000Silenced|          Freak Seen|   Dom & Roland|          Chronology|\n",
            "|000Silenced|Paradrenasite (Hi...|   Dom & Roland|          Chronology|\n",
            "|000Silenced|               Rhino|   Dom & Roland|          Chronology|\n",
            "+-----------+--------------------+---------------+--------------------+\n",
            "only showing top 20 rows\n",
            "\n"
          ],
          "name": "stdout"
        }
      ]
    },
    {
      "cell_type": "markdown",
      "metadata": {
        "id": "cyf1XITGpMWV"
      },
      "source": [
        "\n",
        "# Let's Perform some aggregation\n",
        "to see how many times each user has listened to specific track\n"
      ]
    },
    {
      "cell_type": "code",
      "metadata": {
        "id": "PeH7vYKEoyWa",
        "colab": {
          "base_uri": "https://localhost:8080/"
        },
        "outputId": "4e525765-c452-48de-ad39-bf444388424c"
      },
      "source": [
        "rows = df_listenings.count()\r\n",
        "columns = len(df_listenings.columns)\r\n",
        "print(rows, columns)"
      ],
      "execution_count": null,
      "outputs": [
        {
          "output_type": "stream",
          "text": [
            "13758905 4\n"
          ],
          "name": "stdout"
        }
      ]
    },
    {
      "cell_type": "code",
      "metadata": {
        "id": "RhVz-SvapIyr",
        "colab": {
          "base_uri": "https://localhost:8080/"
        },
        "outputId": "64b9a8d5-d5c1-4a32-9c34-049b8352f278"
      },
      "source": [
        "df_listenings_agg = df_listenings.select('user_id', 'track').groupby('user_id', 'track').agg(count('*').alias('count')).orderBy('user_id')\r\n",
        "df_listenings_agg.show()"
      ],
      "execution_count": null,
      "outputs": [
        {
          "output_type": "stream",
          "text": [
            "+-------+--------------------+-----+\n",
            "|user_id|               track|count|\n",
            "+-------+--------------------+-----+\n",
            "| --Seph|Chelsea Hotel - L...|    1|\n",
            "| --Seph|        Window Blues|    1|\n",
            "| --Seph|          Paris 2004|    7|\n",
            "| --Seph|Hungarian Rhapsod...|    1|\n",
            "| --Seph|Vestido Estampado...|    1|\n",
            "| --Seph|   Summa for Strings|    1|\n",
            "| --Seph|         The Embrace|    1|\n",
            "| --Seph|       Phantom Pt II|    1|\n",
            "| --Seph|  California Waiting|    1|\n",
            "| --Seph|     The Way We Were|    1|\n",
            "| --Seph| Air on the G String|    1|\n",
            "| --Seph|              Monday|    1|\n",
            "| --Seph|Belina (Original ...|    1|\n",
            "| --Seph|       Life On Mars?|    1|\n",
            "| --Seph|               Leloo|    1|\n",
            "| --Seph|Hungarian Dance No 5|    1|\n",
            "| --Seph| White Winter Hymnal|    3|\n",
            "| --Seph|Airplanes [feat H...|    1|\n",
            "| --Seph|      Hour for magic|    2|\n",
            "| --Seph|Virus (Luke Fair ...|    1|\n",
            "+-------+--------------------+-----+\n",
            "only showing top 20 rows\n",
            "\n"
          ],
          "name": "stdout"
        }
      ]
    },
    {
      "cell_type": "code",
      "metadata": {
        "id": "KsTXVsO7I7Jw",
        "colab": {
          "base_uri": "https://localhost:8080/"
        },
        "outputId": "3e6ff9e8-feff-40c0-e32c-7b7cc085fc6d"
      },
      "source": [
        "row_number = df_listenings_agg.count()\r\n",
        "col_number = len(df_listenings_agg.columns)\r\n",
        "print(row_number, col_number)"
      ],
      "execution_count": null,
      "outputs": [
        {
          "output_type": "stream",
          "text": [
            "9930128 3\n"
          ],
          "name": "stdout"
        }
      ]
    },
    {
      "cell_type": "code",
      "metadata": {
        "id": "zsvDBQs8Bukc"
      },
      "source": [
        "df_listenings_agg = df_listenings_agg.limit(20000)"
      ],
      "execution_count": null,
      "outputs": []
    },
    {
      "cell_type": "markdown",
      "metadata": {
        "id": "vuebvg7UqzsO"
      },
      "source": [
        "# Let's convert the user id and track columns into unique integers\n",
        "\n",
        "\n"
      ]
    },
    {
      "cell_type": "code",
      "metadata": {
        "id": "F9RSpj3DN6aX",
        "colab": {
          "base_uri": "https://localhost:8080/"
        },
        "outputId": "e6e9fe44-5120-42d9-d503-2657f8bacf1d"
      },
      "source": [
        "indexer = [StringIndexer(inputCol=col, outputCol=col+'_index').fit(df_listenings_agg) \r\n",
        "    for col in list(set(df_listenings_agg.columns) - set(['count']))\r\n",
        "]\r\n",
        "\r\n",
        "pipeline = Pipeline(stages=indexer)\r\n",
        "data = pipeline.fit(df_listenings_agg).transform(df_listenings_agg)\r\n",
        "data.show()"
      ],
      "execution_count": null,
      "outputs": [
        {
          "output_type": "stream",
          "text": [
            "+-------+--------------------+-----+-------------+-----------+\n",
            "|user_id|               track|count|user_id_index|track_index|\n",
            "+-------+--------------------+-----+-------------+-----------+\n",
            "| --Seph| White Winter Hymnal|    3|         69.0|       59.0|\n",
            "| --Seph|Virus (Luke Fair ...|    1|         69.0|    15896.0|\n",
            "| --Seph|Airplanes [feat H...|    1|         69.0|      519.0|\n",
            "| --Seph|Belina (Original ...|    1|         69.0|     3278.0|\n",
            "| --Seph|              Monday|    1|         69.0|      334.0|\n",
            "| --Seph|Hungarian Dance No 5|    1|         69.0|     7558.0|\n",
            "| --Seph|       Life On Mars?|    1|         69.0|     1161.0|\n",
            "| --Seph|  California Waiting|    1|         69.0|      197.0|\n",
            "| --Seph|       Phantom Pt II|    1|         69.0|     1377.0|\n",
            "| --Seph|   Summa for Strings|    1|         69.0|    13739.0|\n",
            "| --Seph|      Hour for magic|    2|         69.0|     7495.0|\n",
            "| --Seph|Hungarian Rhapsod...|    1|         69.0|     7559.0|\n",
            "| --Seph|     The Way We Were|    1|         69.0|    14960.0|\n",
            "| --Seph| Air on the G String|    1|         69.0|     2455.0|\n",
            "| --Seph|Vestido Estampado...|    1|         69.0|    15850.0|\n",
            "| --Seph|        Window Blues|    1|         69.0|     1840.0|\n",
            "| --Seph|               Leloo|    1|         69.0|     9057.0|\n",
            "| --Seph|         The Embrace|    1|         69.0|    14387.0|\n",
            "| --Seph|          Paris 2004|    7|         69.0|    11313.0|\n",
            "| --Seph|Chelsea Hotel - L...|    1|         69.0|     4183.0|\n",
            "+-------+--------------------+-----+-------------+-----------+\n",
            "only showing top 20 rows\n",
            "\n"
          ],
          "name": "stdout"
        }
      ]
    },
    {
      "cell_type": "code",
      "metadata": {
        "id": "efL-hiR-q-AO"
      },
      "source": [
        "data = data.select('user_id_index', 'track_index', 'count').orderBy('user_id_index')"
      ],
      "execution_count": null,
      "outputs": []
    },
    {
      "cell_type": "code",
      "metadata": {
        "id": "OfKtj2ojrKae",
        "colab": {
          "base_uri": "https://localhost:8080/"
        },
        "outputId": "b099731e-524b-4e40-a240-bd045f3b9577"
      },
      "source": [
        "data.show()"
      ],
      "execution_count": null,
      "outputs": [
        {
          "output_type": "stream",
          "text": [
            "+-------+--------------------+-----+-------------+-----------+\n",
            "|user_id|               track|count|user_id_index|track_index|\n",
            "+-------+--------------------+-----+-------------+-----------+\n",
            "| --Seph| White Winter Hymnal|    3|         69.0|       59.0|\n",
            "| --Seph|Virus (Luke Fair ...|    1|         69.0|    15896.0|\n",
            "| --Seph|Airplanes [feat H...|    1|         69.0|      519.0|\n",
            "| --Seph|Belina (Original ...|    1|         69.0|     3278.0|\n",
            "| --Seph|              Monday|    1|         69.0|      334.0|\n",
            "| --Seph|Hungarian Dance No 5|    1|         69.0|     7558.0|\n",
            "| --Seph|       Life On Mars?|    1|         69.0|     1161.0|\n",
            "| --Seph|  California Waiting|    1|         69.0|      197.0|\n",
            "| --Seph|       Phantom Pt II|    1|         69.0|     1377.0|\n",
            "| --Seph|   Summa for Strings|    1|         69.0|    13739.0|\n",
            "| --Seph|      Hour for magic|    2|         69.0|     7495.0|\n",
            "| --Seph|Hungarian Rhapsod...|    1|         69.0|     7559.0|\n",
            "| --Seph|     The Way We Were|    1|         69.0|    14960.0|\n",
            "| --Seph| Air on the G String|    1|         69.0|     2455.0|\n",
            "| --Seph|Vestido Estampado...|    1|         69.0|    15850.0|\n",
            "| --Seph|        Window Blues|    1|         69.0|     1840.0|\n",
            "| --Seph|               Leloo|    1|         69.0|     9057.0|\n",
            "| --Seph|         The Embrace|    1|         69.0|    14387.0|\n",
            "| --Seph|          Paris 2004|    7|         69.0|    11313.0|\n",
            "| --Seph|Chelsea Hotel - L...|    1|         69.0|     4183.0|\n",
            "+-------+--------------------+-----+-------------+-----------+\n",
            "only showing top 20 rows\n",
            "\n"
          ],
          "name": "stdout"
        }
      ]
    },
    {
      "cell_type": "markdown",
      "metadata": {
        "id": "IEwviAxXsHwN"
      },
      "source": [
        "# Train and Test data"
      ]
    },
    {
      "cell_type": "code",
      "metadata": {
        "id": "DRgu2p-PsYUw"
      },
      "source": [
        "(training, test) = data.randomSplit([0.5, 0.5])"
      ],
      "execution_count": null,
      "outputs": []
    },
    {
      "cell_type": "markdown",
      "metadata": {
        "id": "M46wV6Gusdi5"
      },
      "source": [
        "# Let's Create our Model"
      ]
    },
    {
      "cell_type": "code",
      "metadata": {
        "id": "bwPk25M3sfRu"
      },
      "source": [
        "USERID = 'user_id_index'\n",
        "TRACK = 'track_index'\n",
        "COUNT = 'count'\n",
        "\n",
        "als = ALS(maxIter=5, regParam=0.01, userCol=USERID, itemCol=TRACK, ratingCol=COUNT)\n",
        "model = als.fit(training)\n",
        "\n",
        "predictions = model.transform(test)"
      ],
      "execution_count": null,
      "outputs": []
    },
    {
      "cell_type": "markdown",
      "metadata": {
        "id": "lqBkLowzsoj8"
      },
      "source": [
        "\n",
        "# Generate top 10 Track recommendations for each user"
      ]
    },
    {
      "cell_type": "code",
      "metadata": {
        "id": "00mtv7XUsZGg"
      },
      "source": [
        "recs = model.recommendForAllUsers(10)"
      ],
      "execution_count": null,
      "outputs": []
    },
    {
      "cell_type": "code",
      "metadata": {
        "id": "_EQnSUh3ncar",
        "colab": {
          "base_uri": "https://localhost:8080/"
        },
        "outputId": "cd3891ab-8b12-4bec-ac81-cb3bd78fa5d2"
      },
      "source": [
        "recs.show()"
      ],
      "execution_count": null,
      "outputs": [
        {
          "output_type": "stream",
          "text": [
            "+-------------+--------------------+\n",
            "|user_id_index|     recommendations|\n",
            "+-------------+--------------------+\n",
            "|           31|[[11941, 41.22383...|\n",
            "|           85|[[4461, 24.862276...|\n",
            "|          137|[[11941, 22.65895...|\n",
            "|           65|[[11941, 24.01278...|\n",
            "|           53|[[11941, 7.842286...|\n",
            "|          133|[[14826, 17.99655...|\n",
            "|           78|[[11941, 25.85875...|\n",
            "|          108|[[4461, 27.43491]...|\n",
            "|           34|[[16909, 17.96572...|\n",
            "|          101|[[16909, 15.64545...|\n",
            "|          115|[[11941, 12.16764...|\n",
            "|          126|[[568, 13.998391]...|\n",
            "|           81|[[2484, 11.133461...|\n",
            "|           28|[[4461, 14.521337...|\n",
            "|           76|[[11941, 34.28729...|\n",
            "|           26|[[11941, 48.85452...|\n",
            "|           27|[[4461, 13.800264...|\n",
            "|           44|[[16969, 6.670264...|\n",
            "|          103|[[4461, 19.330572...|\n",
            "|           12|[[16909, 14.76492...|\n",
            "+-------------+--------------------+\n",
            "only showing top 20 rows\n",
            "\n"
          ],
          "name": "stdout"
        }
      ]
    },
    {
      "cell_type": "code",
      "metadata": {
        "id": "stUaAoKpTgqT",
        "colab": {
          "base_uri": "https://localhost:8080/"
        },
        "outputId": "fbedbfcc-0d2c-42dd-949a-8552d87c27bd"
      },
      "source": [
        "recs.take(1)"
      ],
      "execution_count": null,
      "outputs": [
        {
          "output_type": "execute_result",
          "data": {
            "text/plain": [
              "[Row(user_id_index=31, recommendations=[Row(track_index=11941, rating=41.22383117675781), Row(track_index=460, rating=10.276081085205078), Row(track_index=1325, rating=8.22818660736084), Row(track_index=12192, rating=7.963444232940674), Row(track_index=1693, rating=7.450974941253662), Row(track_index=348, rating=7.448973655700684), Row(track_index=8037, rating=7.127445220947266), Row(track_index=13107, rating=7.0126824378967285), Row(track_index=5293, rating=6.761024475097656), Row(track_index=2245, rating=5.070768356323242)])]"
            ]
          },
          "metadata": {
            "tags": []
          },
          "execution_count": 36
        }
      ]
    },
    {
      "cell_type": "code",
      "metadata": {
        "id": "-USGuYxaKq8e"
      },
      "source": [
        ""
      ],
      "execution_count": null,
      "outputs": []
    }
  ]
}